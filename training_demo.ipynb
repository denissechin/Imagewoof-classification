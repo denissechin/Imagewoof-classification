{
 "cells": [
  {
   "cell_type": "markdown",
   "metadata": {},
   "source": [
    "# Загружаем и распаковываем данные"
   ]
  },
  {
   "cell_type": "code",
   "execution_count": 1,
   "metadata": {
    "_cell_guid": "b1076dfc-b9ad-4769-8c92-a6c4dae69d19",
    "_uuid": "8f2839f25d086af736a60e9eeb907d3b93b6e0e5",
    "scrolled": false
   },
   "outputs": [
    {
     "name": "stdout",
     "output_type": "stream",
     "text": [
      "--2021-04-22 16:42:28--  https://s3.amazonaws.com/fast-ai-imageclas/imagewoof2-320.tgz\n",
      "Resolving s3.amazonaws.com (s3.amazonaws.com)... 52.217.69.230\n",
      "Connecting to s3.amazonaws.com (s3.amazonaws.com)|52.217.69.230|:443... connected.\n",
      "HTTP request sent, awaiting response... 200 OK\n",
      "Length: 328387740 (313M) [application/x-tar]\n",
      "Saving to: ‘imagewoof2-320.tgz’\n",
      "\n",
      "imagewoof2-320.tgz  100%[===================>] 313.17M  16.6MB/s    in 21s     \n",
      "\n",
      "2021-04-22 16:42:50 (15.1 MB/s) - ‘imagewoof2-320.tgz’ saved [328387740/328387740]\n",
      "\n"
     ]
    }
   ],
   "source": [
    "# Загружаем и распаковываем данные# Импортируем библиотеки и указываем устройство, на котором будет производиться обучение модели!wget https://s3.amazonaws.com/fast-ai-imageclas/imagewoof2-320.tgz\n",
    "!tar -xf imagewoof2-320.tgz"
   ]
  },
  {
   "cell_type": "markdown",
   "metadata": {},
   "source": [
    "# Импортируем библиотеки и указываем устройство, на котором будет производиться обучение модели"
   ]
  },
  {
   "cell_type": "code",
   "execution_count": 2,
   "metadata": {},
   "outputs": [
    {
     "name": "stdout",
     "output_type": "stream",
     "text": [
      "Device name Tesla P100-PCIE-16GB\n"
     ]
    }
   ],
   "source": [
    "import numpy as np\n",
    "import pandas as pd\n",
    "import matplotlib.pyplot as plt\n",
    "import torch\n",
    "import torch.nn as nn\n",
    "import torchvision\n",
    "from torch.utils.data import Dataset, DataLoader\n",
    "import albumentations as A\n",
    "from albumentations.pytorch import ToTensorV2\n",
    "from dataset import ImageWoofDataset\n",
    "from training import train_model\n",
    "\n",
    "IMAGE_PATH = './imagewoof2-320/'\n",
    "\n",
    "torch.manual_seed(0)\n",
    "\n",
    "device = torch.device(\"cuda:0\" if (torch.cuda.is_available()) else \"cpu\")\n",
    "\n",
    "print(\"Device name\", (torch.cuda.get_device_name() if (torch.cuda.is_available()) else \"Cpu\"))"
   ]
  },
  {
   "cell_type": "markdown",
   "metadata": {},
   "source": [
    "# В .csv-файле указаны пути к изображениям и соответствующие лейблы.\n",
    "\n",
    "Будем работать с \"noisy_labels_0\", т.е. без перемешивания лейблов."
   ]
  },
  {
   "cell_type": "code",
   "execution_count": 3,
   "metadata": {
    "scrolled": true
   },
   "outputs": [
    {
     "data": {
      "text/html": [
       "<div>\n",
       "<style scoped>\n",
       "    .dataframe tbody tr th:only-of-type {\n",
       "        vertical-align: middle;\n",
       "    }\n",
       "\n",
       "    .dataframe tbody tr th {\n",
       "        vertical-align: top;\n",
       "    }\n",
       "\n",
       "    .dataframe thead th {\n",
       "        text-align: right;\n",
       "    }\n",
       "</style>\n",
       "<table border=\"1\" class=\"dataframe\">\n",
       "  <thead>\n",
       "    <tr style=\"text-align: right;\">\n",
       "      <th></th>\n",
       "      <th>path</th>\n",
       "      <th>noisy_labels_0</th>\n",
       "      <th>noisy_labels_1</th>\n",
       "      <th>noisy_labels_5</th>\n",
       "      <th>noisy_labels_25</th>\n",
       "      <th>noisy_labels_50</th>\n",
       "      <th>is_valid</th>\n",
       "    </tr>\n",
       "  </thead>\n",
       "  <tbody>\n",
       "    <tr>\n",
       "      <th>0</th>\n",
       "      <td>train/n02115641/n02115641_3995.JPEG</td>\n",
       "      <td>n02115641</td>\n",
       "      <td>n02115641</td>\n",
       "      <td>n02115641</td>\n",
       "      <td>n02115641</td>\n",
       "      <td>n02115641</td>\n",
       "      <td>False</td>\n",
       "    </tr>\n",
       "    <tr>\n",
       "      <th>1</th>\n",
       "      <td>train/n02115641/n02115641_843.JPEG</td>\n",
       "      <td>n02115641</td>\n",
       "      <td>n02115641</td>\n",
       "      <td>n02105641</td>\n",
       "      <td>n02115641</td>\n",
       "      <td>n02088364</td>\n",
       "      <td>False</td>\n",
       "    </tr>\n",
       "    <tr>\n",
       "      <th>2</th>\n",
       "      <td>train/n02115641/n02115641_2953.JPEG</td>\n",
       "      <td>n02115641</td>\n",
       "      <td>n02115641</td>\n",
       "      <td>n02115641</td>\n",
       "      <td>n02111889</td>\n",
       "      <td>n02099601</td>\n",
       "      <td>False</td>\n",
       "    </tr>\n",
       "    <tr>\n",
       "      <th>3</th>\n",
       "      <td>train/n02115641/n02115641_6458.JPEG</td>\n",
       "      <td>n02115641</td>\n",
       "      <td>n02115641</td>\n",
       "      <td>n02115641</td>\n",
       "      <td>n02093754</td>\n",
       "      <td>n02115641</td>\n",
       "      <td>False</td>\n",
       "    </tr>\n",
       "    <tr>\n",
       "      <th>4</th>\n",
       "      <td>train/n02115641/n02115641_19414.JPEG</td>\n",
       "      <td>n02115641</td>\n",
       "      <td>n02115641</td>\n",
       "      <td>n02115641</td>\n",
       "      <td>n02115641</td>\n",
       "      <td>n02088364</td>\n",
       "      <td>False</td>\n",
       "    </tr>\n",
       "  </tbody>\n",
       "</table>\n",
       "</div>"
      ],
      "text/plain": [
       "                                   path noisy_labels_0 noisy_labels_1  \\\n",
       "0   train/n02115641/n02115641_3995.JPEG      n02115641      n02115641   \n",
       "1    train/n02115641/n02115641_843.JPEG      n02115641      n02115641   \n",
       "2   train/n02115641/n02115641_2953.JPEG      n02115641      n02115641   \n",
       "3   train/n02115641/n02115641_6458.JPEG      n02115641      n02115641   \n",
       "4  train/n02115641/n02115641_19414.JPEG      n02115641      n02115641   \n",
       "\n",
       "  noisy_labels_5 noisy_labels_25 noisy_labels_50  is_valid  \n",
       "0      n02115641       n02115641       n02115641     False  \n",
       "1      n02105641       n02115641       n02088364     False  \n",
       "2      n02115641       n02111889       n02099601     False  \n",
       "3      n02115641       n02093754       n02115641     False  \n",
       "4      n02115641       n02115641       n02088364     False  "
      ]
     },
     "execution_count": 3,
     "metadata": {},
     "output_type": "execute_result"
    }
   ],
   "source": [
    "df = pd.read_csv('./imagewoof2-320/noisy_imagewoof.csv')\n",
    "df.head()"
   ]
  },
  {
   "cell_type": "markdown",
   "metadata": {},
   "source": [
    "# Распределение классов сбалансировано, за исключением одного\n",
    "\n",
    "Для оценки работы модели подойдет метрика Accuracy"
   ]
  },
  {
   "cell_type": "code",
   "execution_count": 4,
   "metadata": {},
   "outputs": [
    {
     "data": {
      "text/plain": [
       "n02093754    949\n",
       "n02099601    949\n",
       "n02096294    943\n",
       "n02087394    942\n",
       "n02086240    941\n",
       "n02115641    940\n",
       "n02088364    932\n",
       "n02105641    928\n",
       "n02111889    921\n",
       "n02089973    580\n",
       "Name: noisy_labels_0, dtype: int64"
      ]
     },
     "execution_count": 4,
     "metadata": {},
     "output_type": "execute_result"
    }
   ],
   "source": [
    "df[df['is_valid'] == False]['noisy_labels_0'].value_counts()"
   ]
  },
  {
   "cell_type": "code",
   "execution_count": 5,
   "metadata": {},
   "outputs": [],
   "source": [
    "label_dict = {label: i for i, label in enumerate(df['noisy_labels_0'].unique())}\n",
    "inversed_label_dict = {value:key for key, value in label_dict.items()} "
   ]
  },
  {
   "cell_type": "code",
   "execution_count": 6,
   "metadata": {},
   "outputs": [],
   "source": [
    "train_images_paths = [IMAGE_PATH + path for path in df[df['is_valid'] == False]['path'].values]\n",
    "val_images_paths = [IMAGE_PATH + path for path in df[df['is_valid'] == True]['path'].values]\n",
    "train_labels = df[df['is_valid'] == False]['noisy_labels_0'].replace(label_dict).values\n",
    "val_labels = df[df['is_valid'] == True]['noisy_labels_0'].replace(label_dict).values"
   ]
  },
  {
   "cell_type": "markdown",
   "metadata": {},
   "source": [
    "# Также будем использовать аугментации для тренировочного датасета:\n",
    "\n",
    "- Случайный кроп 224х224 (т.к. это стандартное разрешение для нашей модели)\n",
    "- Случайное отражение по горизонтали и/или вертикали\n",
    "- Случайное изменение яркости и контраста\n",
    "- Случайное смещение по каналам цветов\n",
    "- Нормализация по данным с ImageNet"
   ]
  },
  {
   "cell_type": "code",
   "execution_count": 7,
   "metadata": {},
   "outputs": [],
   "source": [
    "train_transforms = A.Compose([\n",
    "    A.RandomCrop(width=224, height=224),\n",
    "    A.HorizontalFlip(p=0.5),\n",
    "    A.VerticalFlip(p=0.5),\n",
    "    A.RandomBrightnessContrast(p=0.2),\n",
    "    A.RGBShift(r_shift_limit=15, g_shift_limit=15, b_shift_limit=15, p=0.5),\n",
    "    A.Normalize(mean=(0.485, 0.456, 0.406), std=(0.229, 0.224, 0.225)),\n",
    "    ToTensorV2(),\n",
    "])\n",
    "\n",
    "val_transforms = A.Compose([\n",
    "    A.RandomCrop(width=224, height=224),\n",
    "    A.Normalize(mean=(0.485, 0.456, 0.406), std=(0.229, 0.224, 0.225)),\n",
    "    ToTensorV2(),\n",
    "])\n"
   ]
  },
  {
   "cell_type": "code",
   "execution_count": 8,
   "metadata": {},
   "outputs": [],
   "source": [
    "train_dataset = ImageWoofDataset(train_images_paths, train_labels, train_transforms)\n",
    "val_dataset = ImageWoofDataset(val_images_paths, val_labels, val_transforms)\n",
    "\n",
    "dataloaders = {}\n",
    "dataloaders['train'] = DataLoader(train_dataset, batch_size=128, shuffle=True)\n",
    "dataloaders['val'] = DataLoader(val_dataset, batch_size=100, shuffle=True)"
   ]
  },
  {
   "cell_type": "markdown",
   "metadata": {},
   "source": [
    "# В качестве модели возьмем предобученную ResNet50 с заменой последнего слоя на десятиклассовый классификатор\n",
    "***\n",
    "Плюс т.к. ImageWoof - часть датасета ImageNet, а ResNet50 предобучена на ImageNet, обучение будет сходиться очень быстро"
   ]
  },
  {
   "cell_type": "code",
   "execution_count": 9,
   "metadata": {},
   "outputs": [
    {
     "name": "stderr",
     "output_type": "stream",
     "text": [
      "Downloading: \"https://download.pytorch.org/models/resnet50-19c8e357.pth\" to /root/.cache/torch/hub/checkpoints/resnet50-19c8e357.pth\n"
     ]
    },
    {
     "data": {
      "application/vnd.jupyter.widget-view+json": {
       "model_id": "5d2171cf7da64bb6810fc867eda58050",
       "version_major": 2,
       "version_minor": 0
      },
      "text/plain": [
       "  0%|          | 0.00/97.8M [00:00<?, ?B/s]"
      ]
     },
     "metadata": {},
     "output_type": "display_data"
    }
   ],
   "source": [
    "# В качестве модели возьмем предобученную ResNet50 с заменой последнего слоя на десятиклассовый классификатор\n",
    "***\n",
    "Плюс т.к. ImageWoof - часть датасета ImageNet, а ResNet50 предобучена на ImageNet, обучение будет сходиться очень быстроmodel = torchvision.models.resnet50(pretrained=True)\n",
    "\n",
    "model.fc = nn.Linear(in_features=2048, out_features=10, bias=True)\n",
    "model = model.to(device)\n",
    "\n",
    "lr = 0.00001\n",
    "optimizer = optim.Adam(model.parameters(), lr=lr, weight_decay=0.0001)\n",
    "criterion = torch.nn.CrossEntropyLoss()"
   ]
  },
  {
   "cell_type": "markdown",
   "metadata": {},
   "source": [
    "# Обучаем модель"
   ]
  },
  {
   "cell_type": "code",
   "execution_count": 10,
   "metadata": {
    "scrolled": true
   },
   "outputs": [
    {
     "name": "stdout",
     "output_type": "stream",
     "text": [
      "Epoch 0/14\n",
      "----------\n",
      "train Loss: 1.8009 Acc: 0.5108\n",
      "val Loss: 1.0127 Acc: 0.8417\n",
      "Epoch 1/14\n",
      "----------\n",
      "train Loss: 0.9189 Acc: 0.8107\n",
      "val Loss: 0.5068 Acc: 0.8944\n",
      "Epoch 2/14\n",
      "----------\n",
      "train Loss: 0.5559 Acc: 0.8658\n",
      "val Loss: 0.3705 Acc: 0.9030\n",
      "Epoch 3/14\n",
      "----------\n",
      "train Loss: 0.4470 Acc: 0.8790\n",
      "val Loss: 0.3089 Acc: 0.9145\n",
      "Epoch 4/14\n",
      "----------\n",
      "train Loss: 0.3688 Acc: 0.8951\n",
      "val Loss: 0.2930 Acc: 0.9163\n",
      "Epoch 5/14\n",
      "----------\n",
      "train Loss: 0.3264 Acc: 0.9060\n",
      "val Loss: 0.2766 Acc: 0.9163\n",
      "Epoch 6/14\n",
      "----------\n",
      "train Loss: 0.3132 Acc: 0.9046\n",
      "val Loss: 0.2709 Acc: 0.9155\n",
      "Epoch 7/14\n",
      "----------\n",
      "train Loss: 0.2773 Acc: 0.9160\n",
      "val Loss: 0.2530 Acc: 0.9211\n",
      "Epoch 8/14\n",
      "----------\n",
      "train Loss: 0.2658 Acc: 0.9168\n",
      "val Loss: 0.2484 Acc: 0.9224\n",
      "Epoch 9/14\n",
      "----------\n",
      "train Loss: 0.2517 Acc: 0.9242\n",
      "val Loss: 0.2450 Acc: 0.9259\n",
      "Epoch 10/14\n",
      "----------\n",
      "train Loss: 0.2477 Acc: 0.9260\n",
      "val Loss: 0.2377 Acc: 0.9282\n",
      "Epoch 11/14\n",
      "----------\n",
      "train Loss: 0.2260 Acc: 0.9334\n",
      "val Loss: 0.2479 Acc: 0.9249\n",
      "Epoch 12/14\n",
      "----------\n",
      "train Loss: 0.2172 Acc: 0.9335\n",
      "val Loss: 0.2372 Acc: 0.9262\n",
      "Epoch 13/14\n",
      "----------\n",
      "train Loss: 0.2092 Acc: 0.9355\n",
      "val Loss: 0.2386 Acc: 0.9242\n",
      "Epoch 14/14\n",
      "----------\n",
      "train Loss: 0.1967 Acc: 0.9384\n",
      "val Loss: 0.2342 Acc: 0.9226\n",
      "Best val Acc: 0.928226\n"
     ]
    }
   ],
   "source": [
    "best_model, acc_history, loss_history = train_model(model, optimizer, dataloaders, criterion, num_epochs=15)"
   ]
  },
  {
   "cell_type": "markdown",
   "metadata": {},
   "source": [
    "# Посмотрим на графики обучения и валидации"
   ]
  },
  {
   "cell_type": "code",
   "execution_count": 11,
   "metadata": {
    "scrolled": true
   },
   "outputs": [
    {
     "data": {
      "image/png": "[encoded data removed]",
      "text/plain": [
       "<Figure size 432x288 with 1 Axes>"
      ]
     },
     "metadata": {
      "needs_background": "light"
     },
     "output_type": "display_data"
    }
   ],
   "source": [
    "plt.plot(np.arange(0, len(loss_history)), loss_history)\n",
    "plt.title('Train Loss History');"
   ]
  },
  {
   "cell_type": "code",
   "execution_count": 12,
   "metadata": {
    "scrolled": true
   },
   "outputs": [
    {
     "data": {
      "image/png": "[encoded data removed]",
      "text/plain": [
       "<Figure size 432x288 with 1 Axes>"
      ]
     },
     "metadata": {
      "needs_background": "light"
     },
     "output_type": "display_data"
    }
   ],
   "source": [
    "plt.plot(np.arange(0, len(acc_history)), acc_history)\n",
    "plt.title('Val Accuracy History');"
   ]
  },
  {
   "cell_type": "markdown",
   "metadata": {},
   "source": [
    "# Сохраним модель"
   ]
  },
  {
   "cell_type": "code",
   "execution_count": 13,
   "metadata": {},
   "outputs": [],
   "source": [
    "torch.save(best_model.state_dict(), './model.pth')"
   ]
  },
  {
   "cell_type": "code",
   "execution_count": null,
   "metadata": {},
   "outputs": [],
   "source": []
  }
 ],
 "metadata": {
  "kernelspec": {
   "display_name": "Python 3",
   "language": "python",
   "name": "python3"
  },
  "language_info": {
   "codemirror_mode": {
    "name": "ipython",
    "version": 3
   },
   "file_extension": ".py",
   "mimetype": "text/x-python",
   "name": "python",
   "nbconvert_exporter": "python",
   "pygments_lexer": "ipython3",
   "version": "3.8.5"
  }
 },
 "nbformat": 4,
 "nbformat_minor": 4
}
