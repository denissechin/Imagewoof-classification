{
 "cells": [
  {
   "cell_type": "markdown",
   "metadata": {},
   "source": [
    "# Загружаем и распаковываем данные"
   ]
  },
  {
   "cell_type": "code",
   "execution_count": 1,
   "metadata": {
    "_cell_guid": "b1076dfc-b9ad-4769-8c92-a6c4dae69d19",
    "_uuid": "8f2839f25d086af736a60e9eeb907d3b93b6e0e5",
    "execution": {
     "iopub.execute_input": "2021-04-21T18:19:01.469271Z",
     "iopub.status.busy": "2021-04-21T18:19:01.467810Z",
     "iopub.status.idle": "2021-04-21T18:19:14.454574Z",
     "shell.execute_reply": "2021-04-21T18:19:14.453916Z"
    },
    "papermill": {
     "duration": 12.999195,
     "end_time": "2021-04-21T18:19:14.454713",
     "exception": false,
     "start_time": "2021-04-21T18:19:01.455518",
     "status": "completed"
    },
    "tags": []
   },
   "outputs": [
    {
     "name": "stdout",
     "output_type": "stream",
     "text": [
      "--2021-04-21 18:19:02--  https://s3.amazonaws.com/fast-ai-imageclas/imagewoof2-320.tgz\r\n",
      "Resolving s3.amazonaws.com (s3.amazonaws.com)... 52.217.101.78\r\n",
      "Connecting to s3.amazonaws.com (s3.amazonaws.com)|52.217.101.78|:443... connected.\r\n",
      "HTTP request sent, awaiting response... 200 OK\r\n",
      "Length: 328387740 (313M) [application/x-tar]\r\n",
      "Saving to: ‘imagewoof2-320.tgz’\r\n",
      "\r\n",
      "imagewoof2-320.tgz  100%[===================>] 313.17M  43.8MB/s    in 8.4s    \r\n",
      "\r\n",
      "2021-04-21 18:19:10 (37.1 MB/s) - ‘imagewoof2-320.tgz’ saved [328387740/328387740]\r\n",
      "\r\n"
     ]
    }
   ],
   "source": [
    "!wget https://s3.amazonaws.com/fast-ai-imageclas/imagewoof2-320.tgz\n",
    "!tar -xf imagewoof2-320.tgz"
   ]
  },
  {
   "cell_type": "code",
   "execution_count": 2,
   "metadata": {
    "execution": {
     "iopub.execute_input": "2021-04-21T18:19:14.518814Z",
     "iopub.status.busy": "2021-04-21T18:19:14.518211Z",
     "iopub.status.idle": "2021-04-21T18:19:18.310552Z",
     "shell.execute_reply": "2021-04-21T18:19:18.309852Z"
    },
    "papermill": {
     "duration": 3.837594,
     "end_time": "2021-04-21T18:19:18.310672",
     "exception": false,
     "start_time": "2021-04-21T18:19:14.473078",
     "status": "completed"
    },
    "tags": []
   },
   "outputs": [
    {
     "name": "stdout",
     "output_type": "stream",
     "text": [
      "Device name Tesla P100-PCIE-16GB\n"
     ]
    }
   ],
   "source": [
    "import numpy as np\n",
    "import pandas as pd\n",
    "import matplotlib.pyplot as plt\n",
    "import torch\n",
    "import torch.nn as nn\n",
    "import torchvision\n",
    "from torch.utils.data import Dataset, DataLoader\n",
    "import albumentations as A\n",
    "from albumentations.pytorch import ToTensorV2\n",
    "from dataset import ImageWoofDataset\n",
    "from training import train_model\n",
    "\n",
    "IMAGE_PATH = './imagewoof2-320/'\n",
    "\n",
    "torch.manual_seed(0)\n",
    "\n",
    "device = torch.device(\"cuda:0\" if (torch.cuda.is_available()) else \"cpu\")\n",
    "\n",
    "print(\"Device name\", (torch.cuda.get_device_name() if (torch.cuda.is_available()) else \"Cpu\"))"
   ]
  },
  {
   "cell_type": "markdown",
   "metadata": {},
   "source": [
    "# В .csv-файле указаны пути к изображениям и соответствующие лейблы.\n",
    "\n",
    "Будем работать с \"noisy_labels_0\", т.е. без перемешивания лейблов."
   ]
  },
  {
   "cell_type": "code",
   "execution_count": 3,
   "metadata": {
    "execution": {
     "iopub.execute_input": "2021-04-21T18:19:18.351266Z",
     "iopub.status.busy": "2021-04-21T18:19:18.350515Z",
     "iopub.status.idle": "2021-04-21T18:19:18.392962Z",
     "shell.execute_reply": "2021-04-21T18:19:18.393354Z"
    },
    "papermill": {
     "duration": 0.064585,
     "end_time": "2021-04-21T18:19:18.393475",
     "exception": false,
     "start_time": "2021-04-21T18:19:18.328890",
     "status": "completed"
    },
    "tags": []
   },
   "outputs": [
    {
     "data": {
      "text/html": [
       "<div>\n",
       "<style scoped>\n",
       "    .dataframe tbody tr th:only-of-type {\n",
       "        vertical-align: middle;\n",
       "    }\n",
       "\n",
       "    .dataframe tbody tr th {\n",
       "        vertical-align: top;\n",
       "    }\n",
       "\n",
       "    .dataframe thead th {\n",
       "        text-align: right;\n",
       "    }\n",
       "</style>\n",
       "<table border=\"1\" class=\"dataframe\">\n",
       "  <thead>\n",
       "    <tr style=\"text-align: right;\">\n",
       "      <th></th>\n",
       "      <th>path</th>\n",
       "      <th>noisy_labels_0</th>\n",
       "      <th>noisy_labels_1</th>\n",
       "      <th>noisy_labels_5</th>\n",
       "      <th>noisy_labels_25</th>\n",
       "      <th>noisy_labels_50</th>\n",
       "      <th>is_valid</th>\n",
       "    </tr>\n",
       "  </thead>\n",
       "  <tbody>\n",
       "    <tr>\n",
       "      <th>0</th>\n",
       "      <td>train/n02115641/n02115641_3995.JPEG</td>\n",
       "      <td>n02115641</td>\n",
       "      <td>n02115641</td>\n",
       "      <td>n02115641</td>\n",
       "      <td>n02115641</td>\n",
       "      <td>n02115641</td>\n",
       "      <td>False</td>\n",
       "    </tr>\n",
       "    <tr>\n",
       "      <th>1</th>\n",
       "      <td>train/n02115641/n02115641_843.JPEG</td>\n",
       "      <td>n02115641</td>\n",
       "      <td>n02115641</td>\n",
       "      <td>n02105641</td>\n",
       "      <td>n02115641</td>\n",
       "      <td>n02088364</td>\n",
       "      <td>False</td>\n",
       "    </tr>\n",
       "    <tr>\n",
       "      <th>2</th>\n",
       "      <td>train/n02115641/n02115641_2953.JPEG</td>\n",
       "      <td>n02115641</td>\n",
       "      <td>n02115641</td>\n",
       "      <td>n02115641</td>\n",
       "      <td>n02111889</td>\n",
       "      <td>n02099601</td>\n",
       "      <td>False</td>\n",
       "    </tr>\n",
       "    <tr>\n",
       "      <th>3</th>\n",
       "      <td>train/n02115641/n02115641_6458.JPEG</td>\n",
       "      <td>n02115641</td>\n",
       "      <td>n02115641</td>\n",
       "      <td>n02115641</td>\n",
       "      <td>n02093754</td>\n",
       "      <td>n02115641</td>\n",
       "      <td>False</td>\n",
       "    </tr>\n",
       "    <tr>\n",
       "      <th>4</th>\n",
       "      <td>train/n02115641/n02115641_19414.JPEG</td>\n",
       "      <td>n02115641</td>\n",
       "      <td>n02115641</td>\n",
       "      <td>n02115641</td>\n",
       "      <td>n02115641</td>\n",
       "      <td>n02088364</td>\n",
       "      <td>False</td>\n",
       "    </tr>\n",
       "  </tbody>\n",
       "</table>\n",
       "</div>"
      ],
      "text/plain": [
       "                                   path noisy_labels_0 noisy_labels_1  \\\n",
       "0   train/n02115641/n02115641_3995.JPEG      n02115641      n02115641   \n",
       "1    train/n02115641/n02115641_843.JPEG      n02115641      n02115641   \n",
       "2   train/n02115641/n02115641_2953.JPEG      n02115641      n02115641   \n",
       "3   train/n02115641/n02115641_6458.JPEG      n02115641      n02115641   \n",
       "4  train/n02115641/n02115641_19414.JPEG      n02115641      n02115641   \n",
       "\n",
       "  noisy_labels_5 noisy_labels_25 noisy_labels_50  is_valid  \n",
       "0      n02115641       n02115641       n02115641     False  \n",
       "1      n02105641       n02115641       n02088364     False  \n",
       "2      n02115641       n02111889       n02099601     False  \n",
       "3      n02115641       n02093754       n02115641     False  \n",
       "4      n02115641       n02115641       n02088364     False  "
      ]
     },
     "execution_count": 3,
     "metadata": {},
     "output_type": "execute_result"
    }
   ],
   "source": [
    "df = pd.read_csv('./imagewoof2-320/noisy_imagewoof.csv')\n",
    "df.head()"
   ]
  },
  {
   "cell_type": "code",
   "execution_count": 4,
   "metadata": {
    "execution": {
     "iopub.execute_input": "2021-04-21T18:19:18.436570Z",
     "iopub.status.busy": "2021-04-21T18:19:18.435921Z",
     "iopub.status.idle": "2021-04-21T18:19:18.438884Z",
     "shell.execute_reply": "2021-04-21T18:19:18.438446Z"
    },
    "papermill": {
     "duration": 0.027446,
     "end_time": "2021-04-21T18:19:18.439003",
     "exception": false,
     "start_time": "2021-04-21T18:19:18.411557",
     "status": "completed"
    },
    "tags": []
   },
   "outputs": [],
   "source": [
    "# dict for transfering text labels to numbers\n",
    "label_dict = {label: i for i, label in enumerate(df['noisy_labels_0'].unique())}\n",
    "inversed_label_dict = {value:key for key, value in label_dict.items()} "
   ]
  },
  {
   "cell_type": "code",
   "execution_count": 5,
   "metadata": {
    "execution": {
     "iopub.execute_input": "2021-04-21T18:19:18.486804Z",
     "iopub.status.busy": "2021-04-21T18:19:18.486032Z",
     "iopub.status.idle": "2021-04-21T18:19:18.617036Z",
     "shell.execute_reply": "2021-04-21T18:19:18.616548Z"
    },
    "papermill": {
     "duration": 0.159881,
     "end_time": "2021-04-21T18:19:18.617173",
     "exception": false,
     "start_time": "2021-04-21T18:19:18.457292",
     "status": "completed"
    },
    "tags": []
   },
   "outputs": [],
   "source": [
    "# dataset requires paths to images and corresponding labels\n",
    "train_images_paths = [IMAGE_PATH + path for path in df[df['is_valid'] == False]['path'].values]\n",
    "val_images_paths = [IMAGE_PATH + path for path in df[df['is_valid'] == True]['path'].values]\n",
    "train_labels = df[df['is_valid'] == False]['noisy_labels_0'].replace(label_dict).values\n",
    "val_labels = df[df['is_valid'] == True]['noisy_labels_0'].replace(label_dict).values"
   ]
  },
  {
   "cell_type": "markdown",
   "metadata": {},
   "source": [
    "# Также будем использовать аугментации для тренировочного датасета:\n",
    "\n",
    "- Случайный кроп 224х224 (т.к. это стандартное разрешение для нашей модели)\n",
    "- Случайное отражение по горизонтали и/или вертикали\n",
    "- Случайное изменение яркости и контраста\n",
    "- Случайное смещение по каналам цветов\n",
    "- Нормализация по данным с ImageNet"
   ]
  },
  {
   "cell_type": "code",
   "execution_count": 6,
   "metadata": {
    "execution": {
     "iopub.execute_input": "2021-04-21T18:19:18.665063Z",
     "iopub.status.busy": "2021-04-21T18:19:18.664477Z",
     "iopub.status.idle": "2021-04-21T18:19:18.671575Z",
     "shell.execute_reply": "2021-04-21T18:19:18.671013Z"
    },
    "papermill": {
     "duration": 0.034117,
     "end_time": "2021-04-21T18:19:18.671686",
     "exception": false,
     "start_time": "2021-04-21T18:19:18.637569",
     "status": "completed"
    },
    "tags": []
   },
   "outputs": [],
   "source": [
    "train_transforms = A.Compose([\n",
    "    A.RandomCrop(width=224, height=224),\n",
    "    A.HorizontalFlip(p=0.5),\n",
    "    A.VerticalFlip(p=0.5),\n",
    "    A.RandomBrightnessContrast(p=0.2),\n",
    "    A.RGBShift(r_shift_limit=15, g_shift_limit=15, b_shift_limit=15, p=0.5),\n",
    "    A.Normalize(mean=(0.485, 0.456, 0.406), std=(0.229, 0.224, 0.225)),\n",
    "    ToTensorV2(),\n",
    "])\n",
    "\n",
    "val_transforms = A.Compose([\n",
    "    A.RandomCrop(width=224, height=224),\n",
    "    A.Normalize(mean=(0.485, 0.456, 0.406), std=(0.229, 0.224, 0.225)),\n",
    "    ToTensorV2(),\n",
    "])\n"
   ]
  },
  {
   "cell_type": "code",
   "execution_count": 7,
   "metadata": {
    "execution": {
     "iopub.execute_input": "2021-04-21T18:19:18.716602Z",
     "iopub.status.busy": "2021-04-21T18:19:18.716108Z",
     "iopub.status.idle": "2021-04-21T18:19:18.719822Z",
     "shell.execute_reply": "2021-04-21T18:19:18.719385Z"
    },
    "papermill": {
     "duration": 0.028317,
     "end_time": "2021-04-21T18:19:18.719920",
     "exception": false,
     "start_time": "2021-04-21T18:19:18.691603",
     "status": "completed"
    },
    "tags": []
   },
   "outputs": [],
   "source": [
    "train_dataset = ImageWoofDataset(train_images_paths, train_labels, train_transforms)\n",
    "val_dataset = ImageWoofDataset(val_images_paths, val_labels, val_transforms)\n",
    "\n",
    "dataloaders = {}\n",
    "dataloaders['train'] = DataLoader(train_dataset, batch_size=128, shuffle=True)\n",
    "dataloaders['val'] = DataLoader(val_dataset, batch_size=128)"
   ]
  },
  {
   "cell_type": "markdown",
   "metadata": {},
   "source": [
    "# В качестве модели возьмем предобученную ResNet50 с заменой последнего слоя на десятиклассовый классификатор\n",
    "***\n",
    "Плюс т.к. ImageWoof - часть датасета ImageNet, а ResNet50 предобучена на ImageNet, обучение будет сходится очень быстро"
   ]
  },
  {
   "cell_type": "code",
   "execution_count": 8,
   "metadata": {
    "execution": {
     "iopub.execute_input": "2021-04-21T18:19:18.765525Z",
     "iopub.status.busy": "2021-04-21T18:19:18.764915Z",
     "iopub.status.idle": "2021-04-21T18:19:27.581267Z",
     "shell.execute_reply": "2021-04-21T18:19:27.580014Z"
    },
    "papermill": {
     "duration": 8.841678,
     "end_time": "2021-04-21T18:19:27.581419",
     "exception": false,
     "start_time": "2021-04-21T18:19:18.739741",
     "status": "completed"
    },
    "tags": []
   },
   "outputs": [
    {
     "name": "stderr",
     "output_type": "stream",
     "text": [
      "Downloading: \"https://download.pytorch.org/models/resnet50-19c8e357.pth\" to /root/.cache/torch/hub/checkpoints/resnet50-19c8e357.pth\n"
     ]
    },
    {
     "data": {
      "application/vnd.jupyter.widget-view+json": {
       "model_id": "edd571561fbd4e00a89b7735dd9827f8",
       "version_major": 2,
       "version_minor": 0
      },
      "text/plain": [
       "  0%|          | 0.00/97.8M [00:00<?, ?B/s]"
      ]
     },
     "metadata": {},
     "output_type": "display_data"
    }
   ],
   "source": [
    "model = torchvision.models.resnet50(pretrained=True)\n",
    "\n",
    "model.fc = nn.Linear(in_features=2048, out_features=10, bias=True)\n",
    "model = model.to(device)\n",
    "\n",
    "lr = 0.00001\n",
    "optimizer = torch.optim.Adam(model.parameters(), lr=lr, weight_decay=0.0001)\n",
    "criterion = nn.CrossEntropyLoss()"
   ]
  },
  {
   "cell_type": "markdown",
   "metadata": {},
   "source": [
    "# Обучаем модель"
   ]
  },
  {
   "cell_type": "code",
   "execution_count": 9,
   "metadata": {
    "execution": {
     "iopub.execute_input": "2021-04-21T18:19:27.633963Z",
     "iopub.status.busy": "2021-04-21T18:19:27.633131Z",
     "iopub.status.idle": "2021-04-21T18:42:30.237476Z",
     "shell.execute_reply": "2021-04-21T18:42:30.237022Z"
    },
    "papermill": {
     "duration": 1382.632654,
     "end_time": "2021-04-21T18:42:30.237607",
     "exception": false,
     "start_time": "2021-04-21T18:19:27.604953",
     "status": "completed"
    },
    "tags": []
   },
   "outputs": [
    {
     "name": "stdout",
     "output_type": "stream",
     "text": [
      "Epoch 0/14\n",
      "----------\n",
      "train Loss: 1.8700 Acc: 0.4556\n",
      "val Loss: 1.1824 Acc: 0.7760\n",
      "Epoch 1/14\n",
      "----------\n",
      "train Loss: 1.0419 Acc: 0.7643\n",
      "val Loss: 0.6271 Acc: 0.8521\n",
      "Epoch 2/14\n",
      "----------\n",
      "train Loss: 0.6605 Acc: 0.8266\n",
      "val Loss: 0.4651 Acc: 0.8735\n",
      "Epoch 3/14\n",
      "----------\n",
      "train Loss: 0.5209 Acc: 0.8502\n",
      "val Loss: 0.3946 Acc: 0.8839\n",
      "Epoch 4/14\n",
      "----------\n",
      "train Loss: 0.4508 Acc: 0.8661\n",
      "val Loss: 0.3671 Acc: 0.8878\n",
      "Epoch 5/14\n",
      "----------\n",
      "train Loss: 0.4005 Acc: 0.8818\n",
      "val Loss: 0.3408 Acc: 0.8946\n",
      "Epoch 6/14\n",
      "----------\n",
      "train Loss: 0.3785 Acc: 0.8843\n",
      "val Loss: 0.3529 Acc: 0.8883\n",
      "Epoch 7/14\n",
      "----------\n",
      "train Loss: 0.3404 Acc: 0.8948\n",
      "val Loss: 0.3286 Acc: 0.8972\n",
      "Epoch 8/14\n",
      "----------\n",
      "train Loss: 0.3250 Acc: 0.8997\n",
      "val Loss: 0.3210 Acc: 0.9015\n",
      "Epoch 9/14\n",
      "----------\n",
      "train Loss: 0.3041 Acc: 0.9077\n",
      "val Loss: 0.3135 Acc: 0.8972\n",
      "Epoch 10/14\n",
      "----------\n",
      "train Loss: 0.2839 Acc: 0.9127\n",
      "val Loss: 0.3096 Acc: 0.9012\n",
      "Epoch 11/14\n",
      "----------\n",
      "train Loss: 0.2696 Acc: 0.9192\n",
      "val Loss: 0.3002 Acc: 0.9025\n",
      "Epoch 12/14\n",
      "----------\n",
      "train Loss: 0.2576 Acc: 0.9229\n",
      "val Loss: 0.2987 Acc: 0.9063\n",
      "Epoch 13/14\n",
      "----------\n",
      "train Loss: 0.2553 Acc: 0.9197\n",
      "val Loss: 0.3094 Acc: 0.9023\n",
      "Epoch 14/14\n",
      "----------\n",
      "train Loss: 0.2359 Acc: 0.9285\n",
      "val Loss: 0.2973 Acc: 0.9053\n",
      "Best val Acc: 0.906337\n"
     ]
    }
   ],
   "source": [
    "best_model, acc_history, loss_history = train_model(model, optimizer, dataloaders, criterion, num_epochs=15)"
   ]
  },
  {
   "cell_type": "markdown",
   "metadata": {},
   "source": [
    "# Посмотрим на графики обучения и валидации"
   ]
  },
  {
   "cell_type": "code",
   "execution_count": 10,
   "metadata": {
    "execution": {
     "iopub.execute_input": "2021-04-21T18:42:30.307655Z",
     "iopub.status.busy": "2021-04-21T18:42:30.306805Z",
     "iopub.status.idle": "2021-04-21T18:42:30.462229Z",
     "shell.execute_reply": "2021-04-21T18:42:30.462661Z"
    },
    "papermill": {
     "duration": 0.196992,
     "end_time": "2021-04-21T18:42:30.462789",
     "exception": false,
     "start_time": "2021-04-21T18:42:30.265797",
     "status": "completed"
    },
    "tags": []
   },
   "outputs": [
    {
     "data": {
      "image/png": "[encoded data removed]",
      "text/plain": [
       "<Figure size 432x288 with 1 Axes>"
      ]
     },
     "metadata": {
      "needs_background": "light"
     },
     "output_type": "display_data"
    }
   ],
   "source": [
    "plt.plot(np.arange(0, len(loss_history)), loss_history)\n",
    "plt.title('Train Loss History');"
   ]
  },
  {
   "cell_type": "code",
   "execution_count": 11,
   "metadata": {
    "execution": {
     "iopub.execute_input": "2021-04-21T18:42:30.549130Z",
     "iopub.status.busy": "2021-04-21T18:42:30.548285Z",
     "iopub.status.idle": "2021-04-21T18:42:30.658907Z",
     "shell.execute_reply": "2021-04-21T18:42:30.659374Z"
    },
    "papermill": {
     "duration": 0.16863,
     "end_time": "2021-04-21T18:42:30.659511",
     "exception": false,
     "start_time": "2021-04-21T18:42:30.490881",
     "status": "completed"
    },
    "tags": []
   },
   "outputs": [
    {
     "data": {
      "image/png": "[encoded data removed]",
      "text/plain": [
       "<Figure size 432x288 with 1 Axes>"
      ]
     },
     "metadata": {
      "needs_background": "light"
     },
     "output_type": "display_data"
    }
   ],
   "source": [
    "plt.plot(np.arange(0, len(acc_history)), acc_history)\n",
    "plt.title('Val Accuracy History');"
   ]
  },
  {
   "cell_type": "markdown",
   "metadata": {},
   "source": [
    "# Сохраним модель"
   ]
  },
  {
   "cell_type": "code",
   "execution_count": 12,
   "metadata": {
    "execution": {
     "iopub.execute_input": "2021-04-21T18:42:30.724080Z",
     "iopub.status.busy": "2021-04-21T18:42:30.723321Z",
     "iopub.status.idle": "2021-04-21T18:42:30.897048Z",
     "shell.execute_reply": "2021-04-21T18:42:30.896556Z"
    },
    "papermill": {
     "duration": 0.206344,
     "end_time": "2021-04-21T18:42:30.897184",
     "exception": false,
     "start_time": "2021-04-21T18:42:30.690840",
     "status": "completed"
    },
    "tags": []
   },
   "outputs": [],
   "source": [
    "torch.save(model.state_dict(), './model.pth')"
   ]
  }
 ],
 "metadata": {
  "kernelspec": {
   "display_name": "Python 3",
   "language": "python",
   "name": "python3"
  },
  "language_info": {
   "codemirror_mode": {
    "name": "ipython",
    "version": 3
   },
   "file_extension": ".py",
   "mimetype": "text/x-python",
   "name": "python",
   "nbconvert_exporter": "python",
   "pygments_lexer": "ipython3",
   "version": "3.8.5"
  },
  "papermill": {
   "default_parameters": {},
   "duration": 1415.97527,
   "end_time": "2021-04-21T18:42:32.537605",
   "environment_variables": {},
   "exception": null,
   "input_path": "__notebook__.ipynb",
   "output_path": "__notebook__.ipynb",
   "parameters": {},
   "start_time": "2021-04-21T18:18:56.562335",
   "version": "2.3.2"
  },
  "widgets": {
   "application/vnd.jupyter.widget-state+json": {
    "state": {
     "092b1df08d4940638fe7bd6eeb45ef01": {
      "model_module": "@jupyter-widgets/base",
      "model_module_version": "1.2.0",
      "model_name": "LayoutModel",
      "state": {
       "_model_module": "@jupyter-widgets/base",
       "_model_module_version": "1.2.0",
       "_model_name": "LayoutModel",
       "_view_count": null,
       "_view_module": "@jupyter-widgets/base",
       "_view_module_version": "1.2.0",
       "_view_name": "LayoutView",
       "align_content": null,
       "align_items": null,
       "align_self": null,
       "border": null,
       "bottom": null,
       "display": null,
       "flex": null,
       "flex_flow": null,
       "grid_area": null,
       "grid_auto_columns": null,
       "grid_auto_flow": null,
       "grid_auto_rows": null,
       "grid_column": null,
       "grid_gap": null,
       "grid_row": null,
       "grid_template_areas": null,
       "grid_template_columns": null,
       "grid_template_rows": null,
       "height": null,
       "justify_content": null,
       "justify_items": null,
       "left": null,
       "margin": null,
       "max_height": null,
       "max_width": null,
       "min_height": null,
       "min_width": null,
       "object_fit": null,
       "object_position": null,
       "order": null,
       "overflow": null,
       "overflow_x": null,
       "overflow_y": null,
       "padding": null,
       "right": null,
       "top": null,
       "visibility": null,
       "width": null
      }
     },
     "163bed0670f94594b3658657f9104ff8": {
      "model_module": "@jupyter-widgets/controls",
      "model_module_version": "1.5.0",
      "model_name": "ProgressStyleModel",
      "state": {
       "_model_module": "@jupyter-widgets/controls",
       "_model_module_version": "1.5.0",
       "_model_name": "ProgressStyleModel",
       "_view_count": null,
       "_view_module": "@jupyter-widgets/base",
       "_view_module_version": "1.2.0",
       "_view_name": "StyleView",
       "bar_color": null,
       "description_width": ""
      }
     },
     "27bc5e56cb8f4946a13c3d1805ee4d5c": {
      "model_module": "@jupyter-widgets/base",
      "model_module_version": "1.2.0",
      "model_name": "LayoutModel",
      "state": {
       "_model_module": "@jupyter-widgets/base",
       "_model_module_version": "1.2.0",
       "_model_name": "LayoutModel",
       "_view_count": null,
       "_view_module": "@jupyter-widgets/base",
       "_view_module_version": "1.2.0",
       "_view_name": "LayoutView",
       "align_content": null,
       "align_items": null,
       "align_self": null,
       "border": null,
       "bottom": null,
       "display": null,
       "flex": null,
       "flex_flow": null,
       "grid_area": null,
       "grid_auto_columns": null,
       "grid_auto_flow": null,
       "grid_auto_rows": null,
       "grid_column": null,
       "grid_gap": null,
       "grid_row": null,
       "grid_template_areas": null,
       "grid_template_columns": null,
       "grid_template_rows": null,
       "height": null,
       "justify_content": null,
       "justify_items": null,
       "left": null,
       "margin": null,
       "max_height": null,
       "max_width": null,
       "min_height": null,
       "min_width": null,
       "object_fit": null,
       "object_position": null,
       "order": null,
       "overflow": null,
       "overflow_x": null,
       "overflow_y": null,
       "padding": null,
       "right": null,
       "top": null,
       "visibility": null,
       "width": null
      }
     },
     "341f9c85ff954f079f4a898ea76cb60f": {
      "model_module": "@jupyter-widgets/controls",
      "model_module_version": "1.5.0",
      "model_name": "DescriptionStyleModel",
      "state": {
       "_model_module": "@jupyter-widgets/controls",
       "_model_module_version": "1.5.0",
       "_model_name": "DescriptionStyleModel",
       "_view_count": null,
       "_view_module": "@jupyter-widgets/base",
       "_view_module_version": "1.2.0",
       "_view_name": "StyleView",
       "description_width": ""
      }
     },
     "42c2c50d19684b9aa3d12200d0e76266": {
      "model_module": "@jupyter-widgets/base",
      "model_module_version": "1.2.0",
      "model_name": "LayoutModel",
      "state": {
       "_model_module": "@jupyter-widgets/base",
       "_model_module_version": "1.2.0",
       "_model_name": "LayoutModel",
       "_view_count": null,
       "_view_module": "@jupyter-widgets/base",
       "_view_module_version": "1.2.0",
       "_view_name": "LayoutView",
       "align_content": null,
       "align_items": null,
       "align_self": null,
       "border": null,
       "bottom": null,
       "display": null,
       "flex": null,
       "flex_flow": null,
       "grid_area": null,
       "grid_auto_columns": null,
       "grid_auto_flow": null,
       "grid_auto_rows": null,
       "grid_column": null,
       "grid_gap": null,
       "grid_row": null,
       "grid_template_areas": null,
       "grid_template_columns": null,
       "grid_template_rows": null,
       "height": null,
       "justify_content": null,
       "justify_items": null,
       "left": null,
       "margin": null,
       "max_height": null,
       "max_width": null,
       "min_height": null,
       "min_width": null,
       "object_fit": null,
       "object_position": null,
       "order": null,
       "overflow": null,
       "overflow_x": null,
       "overflow_y": null,
       "padding": null,
       "right": null,
       "top": null,
       "visibility": null,
       "width": null
      }
     },
     "4a09f4dcc64543648f3b76d42954f818": {
      "model_module": "@jupyter-widgets/controls",
      "model_module_version": "1.5.0",
      "model_name": "HTMLModel",
      "state": {
       "_dom_classes": [],
       "_model_module": "@jupyter-widgets/controls",
       "_model_module_version": "1.5.0",
       "_model_name": "HTMLModel",
       "_view_count": null,
       "_view_module": "@jupyter-widgets/controls",
       "_view_module_version": "1.5.0",
       "_view_name": "HTMLView",
       "description": "",
       "description_tooltip": null,
       "layout": "IPY_MODEL_092b1df08d4940638fe7bd6eeb45ef01",
       "placeholder": "​",
       "style": "IPY_MODEL_d74e6bb1e8274e598cf6a352f0efec7c",
       "value": " 97.8M/97.8M [00:03&lt;00:00, 35.4MB/s]"
      }
     },
     "519fc59745784acfb016b67023acd5b5": {
      "model_module": "@jupyter-widgets/controls",
      "model_module_version": "1.5.0",
      "model_name": "FloatProgressModel",
      "state": {
       "_dom_classes": [],
       "_model_module": "@jupyter-widgets/controls",
       "_model_module_version": "1.5.0",
       "_model_name": "FloatProgressModel",
       "_view_count": null,
       "_view_module": "@jupyter-widgets/controls",
       "_view_module_version": "1.5.0",
       "_view_name": "ProgressView",
       "bar_style": "success",
       "description": "",
       "description_tooltip": null,
       "layout": "IPY_MODEL_27bc5e56cb8f4946a13c3d1805ee4d5c",
       "max": 102502400,
       "min": 0,
       "orientation": "horizontal",
       "style": "IPY_MODEL_163bed0670f94594b3658657f9104ff8",
       "value": 102502400
      }
     },
     "a04bc59688aa4b49ab57fa3d84430626": {
      "model_module": "@jupyter-widgets/base",
      "model_module_version": "1.2.0",
      "model_name": "LayoutModel",
      "state": {
       "_model_module": "@jupyter-widgets/base",
       "_model_module_version": "1.2.0",
       "_model_name": "LayoutModel",
       "_view_count": null,
       "_view_module": "@jupyter-widgets/base",
       "_view_module_version": "1.2.0",
       "_view_name": "LayoutView",
       "align_content": null,
       "align_items": null,
       "align_self": null,
       "border": null,
       "bottom": null,
       "display": null,
       "flex": null,
       "flex_flow": null,
       "grid_area": null,
       "grid_auto_columns": null,
       "grid_auto_flow": null,
       "grid_auto_rows": null,
       "grid_column": null,
       "grid_gap": null,
       "grid_row": null,
       "grid_template_areas": null,
       "grid_template_columns": null,
       "grid_template_rows": null,
       "height": null,
       "justify_content": null,
       "justify_items": null,
       "left": null,
       "margin": null,
       "max_height": null,
       "max_width": null,
       "min_height": null,
       "min_width": null,
       "object_fit": null,
       "object_position": null,
       "order": null,
       "overflow": null,
       "overflow_x": null,
       "overflow_y": null,
       "padding": null,
       "right": null,
       "top": null,
       "visibility": null,
       "width": null
      }
     },
     "d74e6bb1e8274e598cf6a352f0efec7c": {
      "model_module": "@jupyter-widgets/controls",
      "model_module_version": "1.5.0",
      "model_name": "DescriptionStyleModel",
      "state": {
       "_model_module": "@jupyter-widgets/controls",
       "_model_module_version": "1.5.0",
       "_model_name": "DescriptionStyleModel",
       "_view_count": null,
       "_view_module": "@jupyter-widgets/base",
       "_view_module_version": "1.2.0",
       "_view_name": "StyleView",
       "description_width": ""
      }
     },
     "ed1433c45a7f4c79879e45309504183f": {
      "model_module": "@jupyter-widgets/controls",
      "model_module_version": "1.5.0",
      "model_name": "HTMLModel",
      "state": {
       "_dom_classes": [],
       "_model_module": "@jupyter-widgets/controls",
       "_model_module_version": "1.5.0",
       "_model_name": "HTMLModel",
       "_view_count": null,
       "_view_module": "@jupyter-widgets/controls",
       "_view_module_version": "1.5.0",
       "_view_name": "HTMLView",
       "description": "",
       "description_tooltip": null,
       "layout": "IPY_MODEL_a04bc59688aa4b49ab57fa3d84430626",
       "placeholder": "​",
       "style": "IPY_MODEL_341f9c85ff954f079f4a898ea76cb60f",
       "value": "100%"
      }
     },
     "edd571561fbd4e00a89b7735dd9827f8": {
      "model_module": "@jupyter-widgets/controls",
      "model_module_version": "1.5.0",
      "model_name": "HBoxModel",
      "state": {
       "_dom_classes": [],
       "_model_module": "@jupyter-widgets/controls",
       "_model_module_version": "1.5.0",
       "_model_name": "HBoxModel",
       "_view_count": null,
       "_view_module": "@jupyter-widgets/controls",
       "_view_module_version": "1.5.0",
       "_view_name": "HBoxView",
       "box_style": "",
       "children": [
        "IPY_MODEL_ed1433c45a7f4c79879e45309504183f",
        "IPY_MODEL_519fc59745784acfb016b67023acd5b5",
        "IPY_MODEL_4a09f4dcc64543648f3b76d42954f818"
       ],
       "layout": "IPY_MODEL_42c2c50d19684b9aa3d12200d0e76266"
      }
     }
    },
    "version_major": 2,
    "version_minor": 0
   }
  }
 },
 "nbformat": 4,
 "nbformat_minor": 5
}
